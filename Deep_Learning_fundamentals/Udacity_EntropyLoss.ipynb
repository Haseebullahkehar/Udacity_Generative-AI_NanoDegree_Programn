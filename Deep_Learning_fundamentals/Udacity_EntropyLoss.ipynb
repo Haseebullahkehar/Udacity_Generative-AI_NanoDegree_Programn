{
  "nbformat": 4,
  "nbformat_minor": 0,
  "metadata": {
    "colab": {
      "provenance": []
    },
    "kernelspec": {
      "name": "python3",
      "display_name": "Python 3"
    },
    "language_info": {
      "name": "python"
    }
  },
  "cells": [
    {
      "cell_type": "markdown",
      "source": [
        "# **Cross-Entropy Loss**"
      ],
      "metadata": {
        "id": "IbVi1Yb9TPWW"
      }
    },
    {
      "cell_type": "code",
      "execution_count": null,
      "metadata": {
        "colab": {
          "base_uri": "https://localhost:8080/"
        },
        "id": "ajf2lD__S-7m",
        "outputId": "e291d675-1c25-4dab-bed1-43a28473b5ed"
      },
      "outputs": [
        {
          "output_type": "execute_result",
          "data": {
            "text/plain": [
              "tensor([1])"
            ]
          },
          "metadata": {},
          "execution_count": 5
        }
      ],
      "source": [
        "\n",
        "import torch\n",
        "import torch.nn as nn\n",
        "\n",
        "loss_function = nn.CrossEntropyLoss()\n",
        "\n",
        "# Our dataset contains a single image of a dog, where\n",
        "# cat = 0 and dog = 1 (corresponding to index 0 and 1)\n",
        "target_tensor = torch.tensor([1])\n",
        "target_tensor\n",
        "# tensor([1])"
      ]
    },
    {
      "cell_type": "markdown",
      "source": [
        "Prediction: Most likely a dog (index 1 is higher)"
      ],
      "metadata": {
        "id": "9SVCFVG5TkrB"
      }
    },
    {
      "cell_type": "code",
      "source": [
        "# Note that the values do not need to sum to 1\n",
        "predicted_tensor = torch.tensor([[2.0, 5.0]])\n",
        "loss_value = loss_function(predicted_tensor, target_tensor)\n",
        "loss_value\n",
        "# tensor(0.0181)"
      ],
      "metadata": {
        "colab": {
          "base_uri": "https://localhost:8080/"
        },
        "id": "Q-1K-MUUTdQ-",
        "outputId": "ac662b10-1d85-44cc-9dfd-dac34073f6b9"
      },
      "execution_count": null,
      "outputs": [
        {
          "output_type": "execute_result",
          "data": {
            "text/plain": [
              "tensor(0.0486)"
            ]
          },
          "metadata": {},
          "execution_count": 6
        }
      ]
    },
    {
      "cell_type": "markdown",
      "source": [
        "Prediction: Slightly more likely a cat (index 0 is higher)"
      ],
      "metadata": {
        "id": "csHmwJdcTqw0"
      }
    },
    {
      "cell_type": "code",
      "source": [
        "predicted_tensor = torch.tensor([[1.5, 1.1]])\n",
        "loss_value = loss_function(predicted_tensor, target_tensor)\n",
        "loss_value\n",
        "# tensor(0.9130)"
      ],
      "metadata": {
        "colab": {
          "base_uri": "https://localhost:8080/"
        },
        "id": "d_4PhXlrTv6s",
        "outputId": "75637195-a2b2-4a1a-c292-e0939741fd7d"
      },
      "execution_count": null,
      "outputs": [
        {
          "output_type": "execute_result",
          "data": {
            "text/plain": [
              "tensor(0.9130)"
            ]
          },
          "metadata": {},
          "execution_count": 7
        }
      ]
    },
    {
      "cell_type": "markdown",
      "source": [
        "Mean Squared Error Loss MSE"
      ],
      "metadata": {
        "id": "edQVWpYTUDUv"
      }
    },
    {
      "cell_type": "code",
      "source": [
        "# Define the loss function\n",
        "loss_function = nn.MSELoss()\n",
        "\n",
        "# Define the predicted and actual values as tensors\n",
        "predicted_tensor = torch.tensor([320000.0])\n",
        "actual_tensor = torch.tensor([300000.0])\n",
        "\n",
        "# Compute the MSE loss\n",
        "loss_value = loss_function(predicted_tensor, actual_tensor)\n",
        "print(loss_value.item()) # Loss value: 20000 * 20000 / 1 = ...\n",
        "# 400000000.0"
      ],
      "metadata": {
        "id": "vbi7Ci_3UG_A",
        "outputId": "aee59dfe-7fd6-4382-cdb8-f506dcd434d0",
        "colab": {
          "base_uri": "https://localhost:8080/"
        }
      },
      "execution_count": null,
      "outputs": [
        {
          "output_type": "stream",
          "name": "stdout",
          "text": [
            "400000000.0\n"
          ]
        }
      ]
    }
  ]
}