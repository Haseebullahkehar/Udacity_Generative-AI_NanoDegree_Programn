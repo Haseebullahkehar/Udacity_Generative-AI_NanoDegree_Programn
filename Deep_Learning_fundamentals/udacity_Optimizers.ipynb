{
  "nbformat": 4,
  "nbformat_minor": 0,
  "metadata": {
    "colab": {
      "provenance": []
    },
    "kernelspec": {
      "name": "python3",
      "display_name": "Python 3"
    },
    "language_info": {
      "name": "python"
    }
  },
  "cells": [
    {
      "cell_type": "markdown",
      "source": [
        "Assuming model is your defined neural network.\n",
        "\n",
        "lr=0.01 sets the learning rate to 0.01 for either optimizer."
      ],
      "metadata": {
        "id": "RUlgqAPRV-Zw"
      }
    },
    {
      "cell_type": "code",
      "execution_count": null,
      "metadata": {
        "id": "YKyfCsHWV9I-"
      },
      "outputs": [],
      "source": [
        "import torch.optim as optim"
      ]
    },
    {
      "cell_type": "markdown",
      "source": [
        "# **Stochastic Gradient Descent**"
      ],
      "metadata": {
        "id": "K4HlysY1WC4y"
      }
    },
    {
      "cell_type": "code",
      "source": [
        "# momentum=0.9 smoothes out updates and can help training\n",
        "optimizer = optim.SGD(model.parameters(), lr=0.01, momentum=0.9)"
      ],
      "metadata": {
        "id": "YPwY7I7tWFL8"
      },
      "execution_count": null,
      "outputs": []
    },
    {
      "cell_type": "markdown",
      "source": [
        "# **Adam**\n"
      ],
      "metadata": {
        "id": "CtnZTxD8WSgt"
      }
    },
    {
      "cell_type": "code",
      "source": [
        "optimizer = optim.Adam(model.parameters(), lr=0.01)"
      ],
      "metadata": {
        "id": "JPjwyt_UWQk-"
      },
      "execution_count": null,
      "outputs": []
    }
  ]
}