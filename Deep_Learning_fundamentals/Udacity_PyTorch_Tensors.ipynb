{
  "nbformat": 4,
  "nbformat_minor": 0,
  "metadata": {
    "colab": {
      "provenance": []
    },
    "kernelspec": {
      "name": "python3",
      "display_name": "Python 3"
    },
    "language_info": {
      "name": "python"
    }
  },
  "cells": [
    {
      "cell_type": "markdown",
      "source": [
        "# **Images as PyTorch Tensors**"
      ],
      "metadata": {
        "id": "AS7Ukm8LR3SC"
      }
    },
    {
      "cell_type": "code",
      "execution_count": null,
      "metadata": {
        "id": "31Aee5tdRbmR"
      },
      "outputs": [],
      "source": [
        "import torch\n",
        "\n",
        "# Create a 3-dimensional tensor\n",
        "images = torch.rand((4, 28, 28))\n",
        "\n",
        "# Get the second image\n",
        "second_image = images[1]"
      ]
    },
    {
      "cell_type": "markdown",
      "source": [
        "# **Displaying images**"
      ],
      "metadata": {
        "id": "Sep7kpC9SBUR"
      }
    },
    {
      "cell_type": "code",
      "source": [
        "import matplotlib.pyplot as plt\n",
        "\n",
        "plt.imshow(second_image, cmap='gray')\n",
        "plt.axis('off') # disable axes\n",
        "plt.show()"
      ],
      "metadata": {
        "colab": {
          "base_uri": "https://localhost:8080/",
          "height": 406
        },
        "id": "PfFMj1k2R8qP",
        "outputId": "5c124cdf-5886-4ce7-f83f-9884f8588391"
      },
      "execution_count": null,
      "outputs": [
        {
          "output_type": "display_data",
          "data": {
            "text/plain": [
              "<Figure size 640x480 with 1 Axes>"
            ],
            "image/png": "[encoded data removed]"
          },
          "metadata": {}
        }
      ]
    },
    {
      "cell_type": "markdown",
      "source": [
        "# **Matrix Multiplication**"
      ],
      "metadata": {
        "id": "MrYCgtCcSGdz"
      }
    },
    {
      "cell_type": "code",
      "source": [
        "\n",
        "a = torch.tensor([[1, 1], [1, 0]])\n",
        "\n",
        "print(a)\n",
        "# tensor([[1, 1],\n",
        "#         [1, 0]])\n",
        "\n",
        "print(torch.matrix_power(a, 2))\n",
        "# tensor([[2, 1],\n",
        "#         [1, 1]])\n",
        "\n",
        "print(torch.matrix_power(a, 3))\n",
        "# tensor([[3, 2],\n",
        "#         [2, 1]])\n",
        "\n",
        "print(torch.matrix_power(a, 4))\n",
        "# tensor([[5, 3],\n",
        "#         [3, 2]])"
      ],
      "metadata": {
        "id": "StsL3SQfSFpF"
      },
      "execution_count": null,
      "outputs": []
    },
    {
      "cell_type": "code",
      "source": [],
      "metadata": {
        "id": "q0Z3q5ufSTGh"
      },
      "execution_count": null,
      "outputs": []
    }
  ]
}