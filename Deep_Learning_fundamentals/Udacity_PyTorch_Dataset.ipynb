{
  "nbformat": 4,
  "nbformat_minor": 0,
  "metadata": {
    "colab": {
      "provenance": [],
      "gpuType": "T4"
    },
    "kernelspec": {
      "name": "python3",
      "display_name": "Python 3"
    },
    "language_info": {
      "name": "python"
    },
    "accelerator": "GPU"
  },
  "cells": [
    {
      "cell_type": "markdown",
      "source": [
        "# Datasets"
      ],
      "metadata": {
        "id": "56gYiYfW41w3"
      }
    },
    {
      "cell_type": "code",
      "execution_count": null,
      "metadata": {
        "colab": {
          "base_uri": "https://localhost:8080/"
        },
        "id": "GSMlALJO4fsm",
        "outputId": "44bbea64-4816-44a9-8e78-e10d40c051cd"
      },
      "outputs": [
        {
          "output_type": "stream",
          "name": "stdout",
          "text": [
            "((3, 4), 12)\n"
          ]
        }
      ],
      "source": [
        "from torch.utils.data import Dataset\n",
        "\n",
        "# Create a toy dataset\n",
        "class NumberProductDataset(Dataset):\n",
        "    def __init__(self, data_range=(1, 10)):\n",
        "        self.numbers = list(range(data_range[0], data_range[1]))\n",
        "\n",
        "    def __getitem__(self, index):\n",
        "        number1 = self.numbers[index]\n",
        "        number2 = self.numbers[index] + 1\n",
        "        return (number1, number2), number1 * number2\n",
        "\n",
        "    def __len__(self):\n",
        "        return len(self.numbers)\n",
        "\n",
        "# Instantiate the dataset\n",
        "dataset = NumberProductDataset(\n",
        "    data_range=(0, 11)\n",
        ")\n",
        "\n",
        "# Access a data sample\n",
        "data_sample = dataset[3]\n",
        "print(data_sample)\n",
        "# ((3, 4), 12)"
      ]
    },
    {
      "cell_type": "markdown",
      "source": [
        "# **Data Loaders**"
      ],
      "metadata": {
        "id": "3PFitGKl4wYT"
      }
    },
    {
      "cell_type": "code",
      "source": [
        "from torch.utils.data import DataLoader\n",
        "\n",
        "# Instantiate the dataset\n",
        "dataset = NumberProductDataset(data_range=(0, 5))\n",
        "\n",
        "# Create a DataLoader instance\n",
        "dataloader = DataLoader(dataset, batch_size=3, shuffle=True)\n",
        "\n",
        "# Iterating over batches\n",
        "for (num_pairs, products) in dataloader:\n",
        "    print(num_pairs, products)\n",
        "# [tensor([4, 3, 1]), tensor([5, 4, 2])] tensor([20, 12, 2])\n",
        "# [tensor([2, 0]), tensor([3, 1])] tensor([6, 0])"
      ],
      "metadata": {
        "colab": {
          "base_uri": "https://localhost:8080/"
        },
        "id": "S8aGsnJp4kZZ",
        "outputId": "6a83ab56-0741-4f9c-d061-24100d8fb705"
      },
      "execution_count": null,
      "outputs": [
        {
          "output_type": "stream",
          "name": "stdout",
          "text": [
            "[tensor([4, 0, 1]), tensor([5, 1, 2])] tensor([20,  0,  2])\n",
            "[tensor([3, 2]), tensor([4, 3])] tensor([12,  6])\n"
          ]
        }
      ]
    }
  ]
}